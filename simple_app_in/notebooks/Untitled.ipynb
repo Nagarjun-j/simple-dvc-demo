{
 "cells": [
  {
   "cell_type": "code",
   "execution_count": 1,
   "id": "4566be6c-1825-4794-8b77-a61dbfc39d3a",
   "metadata": {},
   "outputs": [],
   "source": [
    "import os\n",
    "import pandas as pd"
   ]
  },
  {
   "cell_type": "code",
   "execution_count": 4,
   "id": "041cc73f-193b-4706-9cec-99c435117c91",
   "metadata": {},
   "outputs": [],
   "source": [
    "df = pd.read_csv(r\"C:\\Users\\34491\\MLops_Demo\\simple_app\\simple_app_in\\data_given\\winequality.csv\")"
   ]
  },
  {
   "cell_type": "code",
   "execution_count": 6,
   "id": "ec2e386c-1c15-45a8-ab0d-904731156825",
   "metadata": {},
   "outputs": [
    {
     "data": {
      "text/plain": [
       "Index(['fixed acidity', 'volatile acidity', 'citric acid', 'residual sugar',\n",
       "       'chlorides', 'free sulfur dioxide', 'total sulfur dioxide', 'density',\n",
       "       'pH', 'sulphates', 'alcohol', 'TARGET'],\n",
       "      dtype='object')"
      ]
     },
     "execution_count": 6,
     "metadata": {},
     "output_type": "execute_result"
    }
   ],
   "source": [
    "df.columns"
   ]
  },
  {
   "cell_type": "code",
   "execution_count": 12,
   "id": "c86341a0-38c3-4db0-8c5b-87b0901bef86",
   "metadata": {},
   "outputs": [],
   "source": [
    "df.describe().loc[[\"min\",\"max\"]].to_json(\"schema_in.json\")"
   ]
  },
  {
   "cell_type": "code",
   "execution_count": 16,
   "id": "17b1598b-80c2-4c29-a83a-fca6b380ea0c",
   "metadata": {},
   "outputs": [],
   "source": [
    "class NotInRange(Exception):\n",
    "    def __init__(self, message=\"Value provided not in range\"):\n",
    "        # self.input_ = input_\n",
    "        self.message = message\n",
    "        super().__init__(self.message)"
   ]
  },
  {
   "cell_type": "code",
   "execution_count": 17,
   "id": "014a1ca4-eca7-4835-85b7-6559882d883c",
   "metadata": {},
   "outputs": [
    {
     "ename": "NotInRange",
     "evalue": "Value provided not in range",
     "output_type": "error",
     "traceback": [
      "\u001b[1;31m---------------------------------------------------------------------------\u001b[0m",
      "\u001b[1;31mNotInRange\u001b[0m                                Traceback (most recent call last)",
      "Cell \u001b[1;32mIn[17], line 1\u001b[0m\n\u001b[1;32m----> 1\u001b[0m \u001b[38;5;28;01mraise\u001b[39;00m NotInRange\n",
      "\u001b[1;31mNotInRange\u001b[0m: Value provided not in range"
     ]
    }
   ],
   "source": [
    "raise NotInRange"
   ]
  },
  {
   "cell_type": "code",
   "execution_count": null,
   "id": "41e15ec2-9123-415e-a0a9-0d7d94511e0d",
   "metadata": {},
   "outputs": [],
   "source": []
  }
 ],
 "metadata": {
  "kernelspec": {
   "display_name": "Python 3 (ipykernel)",
   "language": "python",
   "name": "python3"
  },
  "language_info": {
   "codemirror_mode": {
    "name": "ipython",
    "version": 3
   },
   "file_extension": ".py",
   "mimetype": "text/x-python",
   "name": "python",
   "nbconvert_exporter": "python",
   "pygments_lexer": "ipython3",
   "version": "3.10.8"
  }
 },
 "nbformat": 4,
 "nbformat_minor": 5
}
